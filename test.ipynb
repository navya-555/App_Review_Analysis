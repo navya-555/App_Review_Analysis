{
 "cells": [
  {
   "cell_type": "code",
   "execution_count": 1,
   "metadata": {},
   "outputs": [
    {
     "name": "stderr",
     "output_type": "stream",
     "text": [
      "d:\\DA\\Projects\\review summarizer\\App_Review_Analysis\\env\\Lib\\site-packages\\tqdm\\auto.py:21: TqdmWarning: IProgress not found. Please update jupyter and ipywidgets. See https://ipywidgets.readthedocs.io/en/stable/user_install.html\n",
      "  from .autonotebook import tqdm as notebook_tqdm\n"
     ]
    }
   ],
   "source": [
    "from helium import *\n",
    "import time\n",
    "from bs4 import BeautifulSoup\n",
    "from langchain.prompts import PromptTemplate\n",
    "from langchain_huggingface import ChatHuggingFace, HuggingFaceEndpoint\n",
    "import os\n",
    "from dotenv import load_dotenv\n",
    "import google.generativeai as genai"
   ]
  },
  {
   "cell_type": "code",
   "execution_count": 2,
   "metadata": {},
   "outputs": [],
   "source": [
    "link=\"https://play.google.com/store/apps/details?id=com.nflystudio.InfiniteStaircase&pcampaignid=merch_published_cluster_promotion_battlestar_browse_all_games&hl=en\"\n",
    "\n",
    "browser=start_chrome(link,headless=True)\n",
    "\n",
    "\n",
    "click(\"See all reviews\")\n",
    "click(\"Star rating\")\n",
    "click('1-star')\n",
    "\n",
    "data=browser.page_source\n",
    "soup = BeautifulSoup(data, 'html.parser')\n",
    "reviews = soup.find_all('div', class_='h3YV2d')\n",
    "reviews=[review.get_text(strip=True) for review in reviews]\n",
    "\n",
    "time.sleep(5)\n",
    "\n",
    "kill_browser()"
   ]
  },
  {
   "cell_type": "code",
   "execution_count": 3,
   "metadata": {},
   "outputs": [],
   "source": [
    "genai.configure(api_key=os.environ[\"GOOGLE_API\"])\n",
    "gemini_model = genai.GenerativeModel(model_name=\"gemini-1.5-flash\")"
   ]
  },
  {
   "cell_type": "code",
   "execution_count": 7,
   "metadata": {},
   "outputs": [],
   "source": [
    "def analyze_reviews_with_gemini(text,model):\n",
    "    prompt = f\"\"\"\n",
    "    You are analyzing a list of reviews for an app on playstore. The list contains both negetive and positive reviews.\n",
    "    After analyzing give the pros and cons of the app pointwise. Don't include any unnecessay information.\n",
    "    Sample Output -\n",
    "    Pros:\n",
    "    1.\n",
    "    2.\n",
    "    Cons:\n",
    "    1.\n",
    "    2.\n",
    "    \"\"\"\n",
    "    \n",
    "    response = model.generate_content([prompt, text])\n",
    "    output = response.text.strip().split('\\n')\n",
    "    return output"
   ]
  },
  {
   "cell_type": "code",
   "execution_count": 10,
   "metadata": {},
   "outputs": [
    {
     "data": {
      "text/plain": [
       "['Pros:',\n",
       " \"1. **Engaging and Addictive Gameplay:**  Many reviewers highlight the game's simple yet challenging mechanics, keeping players entertained for hours.\",\n",
       " '2. **Regular Updates and Content:** Frequent updates introduce new characters, events, and modes, preventing the game from becoming stale.',\n",
       " '3. **Offline Play:** The game can be played offline, providing entertainment even without an internet connection.',\n",
       " '4. **Generous Rewards:** Players appreciate the generous prizes and minimal ads, making the game feel fair.',\n",
       " '5. **Depth and Variety:** The game offers a variety of minigames, challenges, and gameplay modes, catering to different playstyles.',\n",
       " '6. **No Heavy Microtransactions:** While there are in-app purchases, reviewers note that most content can be enjoyed without spending money.',\n",
       " '',\n",
       " 'Cons:',\n",
       " '1. **Ads and Monetization:**  Some users complain about the increasing number of ads and monetization methods, making the game less enjoyable.',\n",
       " '2. **Technical Issues:**  Reviewers report lag, freezing, and unresponsive button presses, affecting gameplay smoothness.',\n",
       " '3. **Lack of Progress Saving:**  There have been issues with progress not being saved, particularly after reinstalling the game.',\n",
       " '4. **Missing Features:** Some features found in the Korean version are absent in the American version, leaving some users wanting more. ',\n",
       " '5. **Buggy Episode Energy:** Some users report issues with episode energy not replenishing, requiring them to watch ads to play.',\n",
       " '6. **Black Bars on Some Phones:** Some users experience black bars at the end of their screen, potentially affecting gameplay.']"
      ]
     },
     "execution_count": 10,
     "metadata": {},
     "output_type": "execute_result"
    }
   ],
   "source": [
    "res=analyze_reviews_with_gemini(str(reviews),gemini_model)\n",
    "res"
   ]
  },
  {
   "cell_type": "code",
   "execution_count": null,
   "metadata": {},
   "outputs": [],
   "source": []
  }
 ],
 "metadata": {
  "kernelspec": {
   "display_name": "env",
   "language": "python",
   "name": "python3"
  },
  "language_info": {
   "codemirror_mode": {
    "name": "ipython",
    "version": 3
   },
   "file_extension": ".py",
   "mimetype": "text/x-python",
   "name": "python",
   "nbconvert_exporter": "python",
   "pygments_lexer": "ipython3",
   "version": "3.12.4"
  }
 },
 "nbformat": 4,
 "nbformat_minor": 2
}
